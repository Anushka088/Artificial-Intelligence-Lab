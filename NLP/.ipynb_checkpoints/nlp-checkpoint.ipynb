{
 "cells": [
  {
   "cell_type": "code",
   "execution_count": 15,
   "metadata": {
    "colab": {
     "base_uri": "https://localhost:8080/"
    },
    "id": "AYCeMR1pifkl",
    "outputId": "07d96970-ddcd-4b76-ca8d-37a9cc44e096"
   },
   "outputs": [
    {
     "ename": "AttributeError",
     "evalue": "partially initialized module 'nltk' has no attribute 'data' (most likely due to a circular import)",
     "output_type": "error",
     "traceback": [
      "\u001b[1;31m---------------------------------------------------------------------------\u001b[0m",
      "\u001b[1;31mAttributeError\u001b[0m                            Traceback (most recent call last)",
      "Cell \u001b[1;32mIn[15], line 1\u001b[0m\n\u001b[1;32m----> 1\u001b[0m \u001b[38;5;28;01mimport\u001b[39;00m \u001b[38;5;21;01mnltk\u001b[39;00m\n\u001b[0;32m      2\u001b[0m nltk\u001b[38;5;241m.\u001b[39mdownload(\u001b[38;5;124m'\u001b[39m\u001b[38;5;124mwordnet\u001b[39m\u001b[38;5;124m'\u001b[39m)\n\u001b[0;32m      3\u001b[0m nltk\u001b[38;5;241m.\u001b[39mdownload(\u001b[38;5;124m'\u001b[39m\u001b[38;5;124mstopwords\u001b[39m\u001b[38;5;124m'\u001b[39m)\n",
      "File \u001b[1;32m~\\anaconda3\\Lib\\site-packages\\nltk\\__init__.py:180\u001b[0m\n\u001b[0;32m    177\u001b[0m \u001b[38;5;28;01melse\u001b[39;00m:\n\u001b[0;32m    178\u001b[0m     \u001b[38;5;28;01mfrom\u001b[39;00m \u001b[38;5;21;01mnltk\u001b[39;00m \u001b[38;5;28;01mimport\u001b[39;00m cluster\n\u001b[1;32m--> 180\u001b[0m \u001b[38;5;28;01mfrom\u001b[39;00m \u001b[38;5;21;01mnltk\u001b[39;00m\u001b[38;5;21;01m.\u001b[39;00m\u001b[38;5;21;01mdownloader\u001b[39;00m \u001b[38;5;28;01mimport\u001b[39;00m download, download_shell\n\u001b[0;32m    182\u001b[0m \u001b[38;5;28;01mtry\u001b[39;00m:\n\u001b[0;32m    183\u001b[0m     \u001b[38;5;28;01mimport\u001b[39;00m \u001b[38;5;21;01mtkinter\u001b[39;00m\n",
      "File \u001b[1;32m~\\anaconda3\\Lib\\site-packages\\nltk\\downloader.py:2479\u001b[0m\n\u001b[0;32m   2469\u001b[0m             \u001b[38;5;28;01mpass\u001b[39;00m\n\u001b[0;32m   2472\u001b[0m \u001b[38;5;66;03m######################################################################\u001b[39;00m\n\u001b[0;32m   2473\u001b[0m \u001b[38;5;66;03m# Main:\u001b[39;00m\n\u001b[0;32m   2474\u001b[0m \u001b[38;5;66;03m######################################################################\u001b[39;00m\n\u001b[1;32m   (...)\u001b[0m\n\u001b[0;32m   2477\u001b[0m \n\u001b[0;32m   2478\u001b[0m \u001b[38;5;66;03m# Aliases\u001b[39;00m\n\u001b[1;32m-> 2479\u001b[0m _downloader \u001b[38;5;241m=\u001b[39m Downloader()\n\u001b[0;32m   2480\u001b[0m download \u001b[38;5;241m=\u001b[39m _downloader\u001b[38;5;241m.\u001b[39mdownload\n\u001b[0;32m   2483\u001b[0m \u001b[38;5;28;01mdef\u001b[39;00m \u001b[38;5;21mdownload_shell\u001b[39m():\n",
      "File \u001b[1;32m~\\anaconda3\\Lib\\site-packages\\nltk\\downloader.py:515\u001b[0m, in \u001b[0;36mDownloader.__init__\u001b[1;34m(self, server_index_url, download_dir)\u001b[0m\n\u001b[0;32m    513\u001b[0m \u001b[38;5;66;03m# decide where we're going to save things to.\u001b[39;00m\n\u001b[0;32m    514\u001b[0m \u001b[38;5;28;01mif\u001b[39;00m \u001b[38;5;28mself\u001b[39m\u001b[38;5;241m.\u001b[39m_download_dir \u001b[38;5;129;01mis\u001b[39;00m \u001b[38;5;28;01mNone\u001b[39;00m:\n\u001b[1;32m--> 515\u001b[0m     \u001b[38;5;28mself\u001b[39m\u001b[38;5;241m.\u001b[39m_download_dir \u001b[38;5;241m=\u001b[39m \u001b[38;5;28mself\u001b[39m\u001b[38;5;241m.\u001b[39mdefault_download_dir()\n",
      "File \u001b[1;32m~\\anaconda3\\Lib\\site-packages\\nltk\\downloader.py:1071\u001b[0m, in \u001b[0;36mDownloader.default_download_dir\u001b[1;34m(self)\u001b[0m\n\u001b[0;32m   1067\u001b[0m     \u001b[38;5;28;01mreturn\u001b[39;00m\n\u001b[0;32m   1069\u001b[0m \u001b[38;5;66;03m# Check if we have sufficient permissions to install in a\u001b[39;00m\n\u001b[0;32m   1070\u001b[0m \u001b[38;5;66;03m# variety of system-wide locations.\u001b[39;00m\n\u001b[1;32m-> 1071\u001b[0m \u001b[38;5;28;01mfor\u001b[39;00m nltkdir \u001b[38;5;129;01min\u001b[39;00m nltk\u001b[38;5;241m.\u001b[39mdata\u001b[38;5;241m.\u001b[39mpath:\n\u001b[0;32m   1072\u001b[0m     \u001b[38;5;28;01mif\u001b[39;00m os\u001b[38;5;241m.\u001b[39mpath\u001b[38;5;241m.\u001b[39mexists(nltkdir) \u001b[38;5;129;01mand\u001b[39;00m nltk\u001b[38;5;241m.\u001b[39minternals\u001b[38;5;241m.\u001b[39mis_writable(nltkdir):\n\u001b[0;32m   1073\u001b[0m         \u001b[38;5;28;01mreturn\u001b[39;00m nltkdir\n",
      "\u001b[1;31mAttributeError\u001b[0m: partially initialized module 'nltk' has no attribute 'data' (most likely due to a circular import)"
     ]
    }
   ],
   "source": [
    "import nltk\n",
    "nltk.download('wordnet')\n",
    "nltk.download('stopwords')\n",
    "nltk.download('omw-1.4')\n",
    "nltk.download('punkt')\n",
    "nltk.download(\"taggers/averaged_perceptron_tagger/averaged_perceptron_tagger.pickle\").tagdict['weather'] = 'NN'\n",
    "text=\"\"\"Hello Mr. Smith, how are you doing today? The weather is great, and city is awesome. The sky is pinkish-blue. You shouldn\\'t eat cardboard\"\"\"\n"
   ]
  },
  {
   "cell_type": "code",
   "execution_count": 2,
   "metadata": {
    "colab": {
     "base_uri": "https://localhost:8080/"
    },
    "id": "7niUyQ9s_PhE",
    "outputId": "91041901-222d-4a66-8e28-4be94f563dee"
   },
   "outputs": [
    {
     "name": "stdout",
     "output_type": "stream",
     "text": [
      "['Hello Mr. Smith, how are you doing today?', 'The weather is great, and city is awesome.', 'The sky is pinkish-blue.', \"You shouldn't eat cardboard\"]\n"
     ]
    }
   ],
   "source": [
    "sent=nltk.sent_tokenize(text)\n",
    "print(sent)"
   ]
  },
  {
   "cell_type": "code",
   "execution_count": 3,
   "metadata": {
    "colab": {
     "base_uri": "https://localhost:8080/",
     "height": 53
    },
    "id": "YAcysU4fi0Ei",
    "outputId": "d5e979fc-f0b1-4b9c-a634-e5d03a547a38"
   },
   "outputs": [
    {
     "name": "stdout",
     "output_type": "stream",
     "text": [
      "hello mr. smith, how are you doing today? the weather is great, and city is awesome. the sky is pinkish-blue. you shouldn't eat cardboard\n"
     ]
    },
    {
     "data": {
      "text/plain": [
       "\"hello mr  smith  how are you doing today  the weather is great  and city is awesome  the sky is pinkish blue  you shouldn't eat cardboard\""
      ]
     },
     "execution_count": 3,
     "metadata": {},
     "output_type": "execute_result"
    }
   ],
   "source": [
    "import re\n",
    "#text=\"SaaaaMMM\"\n",
    "print(text.lower())\n",
    "text = re.sub(r\"[^a-z\\'A-Z]\", \" \", text.lower())\n",
    "text\n"
   ]
  },
  {
   "cell_type": "code",
   "execution_count": 4,
   "metadata": {
    "colab": {
     "base_uri": "https://localhost:8080/"
    },
    "id": "pob6k8i8fPuY",
    "outputId": "a7fdabf7-ddda-4005-af84-c8492f589980"
   },
   "outputs": [
    {
     "name": "stdout",
     "output_type": "stream",
     "text": [
      "['hello', 'mr', 'smith', 'how', 'are', 'you', 'doing', 'today', 'the', 'weather', 'is', 'great', 'and', 'city', 'is', 'awesome', 'the', 'sky', 'is', 'pinkish', 'blue', 'you', \"shouldn't\", 'eat', 'cardboard']\n"
     ]
    }
   ],
   "source": [
    "words= text.split()\n",
    "\n",
    "print(words)"
   ]
  },
  {
   "cell_type": "code",
   "execution_count": 5,
   "metadata": {
    "colab": {
     "base_uri": "https://localhost:8080/"
    },
    "id": "NRtDK6J1i09Y",
    "outputId": "c6379d6b-5180-4a91-e58b-11089b75442a"
   },
   "outputs": [
    {
     "name": "stdout",
     "output_type": "stream",
     "text": [
      "['i', 'me', 'my', 'myself', 'we', 'our', 'ours', 'ourselves', 'you', \"you're\", \"you've\", \"you'll\", \"you'd\", 'your', 'yours', 'yourself', 'yourselves', 'he', 'him', 'his', 'himself', 'she', \"she's\", 'her', 'hers', 'herself', 'it', \"it's\", 'its', 'itself', 'they', 'them', 'their', 'theirs', 'themselves', 'what', 'which', 'who', 'whom', 'this', 'that', \"that'll\", 'these', 'those', 'am', 'is', 'are', 'was', 'were', 'be', 'been', 'being', 'have', 'has', 'had', 'having', 'do', 'does', 'did', 'doing', 'a', 'an', 'the', 'and', 'but', 'if', 'or', 'because', 'as', 'until', 'while', 'of', 'at', 'by', 'for', 'with', 'about', 'against', 'between', 'into', 'through', 'during', 'before', 'after', 'above', 'below', 'to', 'from', 'up', 'down', 'in', 'out', 'on', 'off', 'over', 'under', 'again', 'further', 'then', 'once', 'here', 'there', 'when', 'where', 'why', 'how', 'all', 'any', 'both', 'each', 'few', 'more', 'most', 'other', 'some', 'such', 'no', 'nor', 'not', 'only', 'own', 'same', 'so', 'than', 'too', 'very', 's', 't', 'can', 'will', 'just', 'don', \"don't\", 'should', \"should've\", 'now', 'd', 'll', 'm', 'o', 're', 've', 'y', 'ain', 'aren', \"aren't\", 'couldn', \"couldn't\", 'didn', \"didn't\", 'doesn', \"doesn't\", 'hadn', \"hadn't\", 'hasn', \"hasn't\", 'haven', \"haven't\", 'isn', \"isn't\", 'ma', 'mightn', \"mightn't\", 'mustn', \"mustn't\", 'needn', \"needn't\", 'shan', \"shan't\", 'shouldn', \"shouldn't\", 'wasn', \"wasn't\", 'weren', \"weren't\", 'won', \"won't\", 'wouldn', \"wouldn't\"]\n"
     ]
    }
   ],
   "source": [
    "from nltk.corpus import stopwords\n",
    "print(stopwords.words(\"english\"))"
   ]
  },
  {
   "cell_type": "code",
   "execution_count": 6,
   "metadata": {
    "colab": {
     "base_uri": "https://localhost:8080/"
    },
    "id": "PsJ7PZuHi5MU",
    "outputId": "48c00dd4-999a-41bf-8000-dbabc4e619bf"
   },
   "outputs": [
    {
     "name": "stdout",
     "output_type": "stream",
     "text": [
      "['hello', 'mr', 'smith', 'today', 'weather', 'great', 'city', 'awesome', 'sky', 'pinkish', 'blue', 'eat', 'cardboard']\n"
     ]
    }
   ],
   "source": [
    "words = [w for w in words if w not in stopwords.words(\"english\")]\n",
    "print(words)\n",
    "\n",
    "#for k in words:\n",
    " # for l in k:\n",
    "  #  if l not in stopwords.words(\"english\"):\n",
    "\n",
    "   #   print(l)"
   ]
  },
  {
   "cell_type": "code",
   "execution_count": 7,
   "metadata": {
    "colab": {
     "base_uri": "https://localhost:8080/"
    },
    "id": "WH_B-GlQi91J",
    "outputId": "fd3c12f9-2955-4e24-d6fc-f5a4795ed584"
   },
   "outputs": [
    {
     "name": "stdout",
     "output_type": "stream",
     "text": [
      "['hello', 'mr', 'smith', 'today', 'weather', 'great', 'citi', 'awesom', 'sky', 'pinkish', 'blue', 'eat', 'cardboard']\n"
     ]
    }
   ],
   "source": [
    "from nltk.stem.porter import PorterStemmer\n",
    "# Reduce words to their stems\n",
    "stemmed = [PorterStemmer().stem(w) for w in words]\n",
    "print(stemmed)\n"
   ]
  },
  {
   "cell_type": "code",
   "execution_count": 8,
   "metadata": {
    "colab": {
     "base_uri": "https://localhost:8080/"
    },
    "id": "wrjeBSHsjBwh",
    "outputId": "5ef76bcc-94d7-42de-e493-3e181947fa49"
   },
   "outputs": [
    {
     "name": "stdout",
     "output_type": "stream",
     "text": [
      "['hello', 'mr', 'smith', 'today', 'weather', 'great', 'city', 'awesome', 'sky', 'pinkish', 'blue', 'eat', 'cardboard']\n"
     ]
    }
   ],
   "source": [
    "from nltk.stem.wordnet import WordNetLemmatizer\n",
    "# Reduce words to their root form\n",
    "lemmed = [WordNetLemmatizer().lemmatize(w) for w in words]\n",
    "print(lemmed)"
   ]
  },
  {
   "cell_type": "code",
   "execution_count": 12,
   "metadata": {
    "colab": {
     "base_uri": "https://localhost:8080/",
     "height": 588
    },
    "id": "DuSwQpx8kgyz",
    "outputId": "82007f28-bff2-4b10-b8c5-bbf5d345c663"
   },
   "outputs": [
    {
     "name": "stdout",
     "output_type": "stream",
     "text": [
      "[('hello', 'NN'), ('mr', 'NN'), ('smith', 'NN'), ('today', 'NN'), ('weather', 'VBP'), ('great', 'JJ'), ('city', 'NN'), ('awesome', 'VBP'), ('sky', 'JJ'), ('pinkish', 'JJ'), ('blue', 'NN'), ('eat', 'NN'), ('cardboard', 'NN')]\n",
      "After Extracting (S\n",
      "  (NP hello/NN)\n",
      "  (NP mr/NN)\n",
      "  (NP smith/NN)\n",
      "  (NP today/NN)\n",
      "  (VP (V weather/VBP) (NP great/JJ city/NN))\n",
      "  (VP\n",
      "    (V awesome/VBP)\n",
      "    (NP sky/JJ pinkish/JJ blue/NN)\n",
      "    (NP eat/NN)\n",
      "    (NP cardboard/NN)))\n"
     ]
    }
   ],
   "source": [
    "from nltk import pos_tag,RegexpParser\n",
    "\n",
    "tagged=pos_tag(lemmed)\n",
    "print(tagged)\n",
    "chunker = RegexpParser(\"\"\"\n",
    "NP: {<DT>?<JJ>*<NN.*>}    # Noun Phrases\n",
    "  P: {<IN>}                 # Prepositions\n",
    "  V: {<VB.*>}               # Verbs\n",
    "  PP: {<P><NP>}             # Prepositional Phrases\n",
    "  VP: {<V><NP|PP>*}         # Verb Phrases\"\"\")\n",
    "output = chunker.parse(tagged)\n",
    "print(\"After Extracting\", output)\n"
   ]
  },
  {
   "cell_type": "code",
   "execution_count": 9,
   "metadata": {},
   "outputs": [
    {
     "name": "stdout",
     "output_type": "stream",
     "text": [
      "Requirement already satisfied: scipy in c:\\users\\hp\\anaconda3\\lib\\site-packages (1.11.4)\n",
      "Requirement already satisfied: numpy<1.28.0,>=1.21.6 in c:\\users\\hp\\anaconda3\\lib\\site-packages (from scipy) (1.26.4)\n"
     ]
    }
   ],
   "source": [
    "\n",
    "!pip install scipy\n"
   ]
  },
  {
   "cell_type": "code",
   "execution_count": 11,
   "metadata": {
    "colab": {
     "base_uri": "https://localhost:8080/"
    },
    "id": "dzYuLuckGeJE",
    "outputId": "0a0f24b8-9ad5-47da-b696-b1c238c73eda"
   },
   "outputs": [
    {
     "name": "stderr",
     "output_type": "stream",
     "text": [
      "[nltk_data] Downloading package averaged_perceptron_tagger to\n",
      "[nltk_data]     C:\\Users\\HP\\AppData\\Roaming\\nltk_data...\n",
      "[nltk_data]   Unzipping taggers\\averaged_perceptron_tagger.zip.\n"
     ]
    },
    {
     "data": {
      "text/plain": [
       "True"
      ]
     },
     "execution_count": 11,
     "metadata": {},
     "output_type": "execute_result"
    }
   ],
   "source": [
    "import nltk\n",
    "nltk.download('averaged_perceptron_tagger')\n"
   ]
  },
  {
   "cell_type": "code",
   "execution_count": null,
   "metadata": {
    "colab": {
     "base_uri": "https://localhost:8080/"
    },
    "id": "DA07QjSDGtJ1",
    "outputId": "563f7af3-03a8-42d3-b410-6cc575380990"
   },
   "outputs": [
    {
     "name": "stderr",
     "output_type": "stream",
     "text": [
      "[nltk_data] Downloading package maxent_ne_chunker to\n",
      "[nltk_data]     /root/nltk_data...\n",
      "[nltk_data]   Unzipping chunkers/maxent_ne_chunker.zip.\n"
     ]
    },
    {
     "data": {
      "text/plain": [
       "True"
      ]
     },
     "execution_count": 11,
     "metadata": {},
     "output_type": "execute_result"
    }
   ],
   "source": [
    "import nltk\n",
    "nltk.download('maxent_ne_chunker')"
   ]
  },
  {
   "cell_type": "code",
   "execution_count": null,
   "metadata": {
    "colab": {
     "base_uri": "https://localhost:8080/"
    },
    "id": "sjIQZj4xG4Lf",
    "outputId": "f67f6250-b191-4b9d-969c-3e46a6d441cc"
   },
   "outputs": [
    {
     "name": "stderr",
     "output_type": "stream",
     "text": [
      "[nltk_data] Downloading package words to /root/nltk_data...\n",
      "[nltk_data]   Unzipping corpora/words.zip.\n"
     ]
    },
    {
     "data": {
      "text/plain": [
       "True"
      ]
     },
     "execution_count": 13,
     "metadata": {},
     "output_type": "execute_result"
    }
   ],
   "source": [
    "import nltk\n",
    "nltk.download('words')"
   ]
  },
  {
   "cell_type": "code",
   "execution_count": 2,
   "metadata": {},
   "outputs": [
    {
     "name": "stdout",
     "output_type": "stream",
     "text": [
      "Requirement already satisfied: spacy in c:\\users\\hp\\anaconda3\\lib\\site-packages (3.8.2)\n",
      "Requirement already satisfied: spacy-legacy<3.1.0,>=3.0.11 in c:\\users\\hp\\anaconda3\\lib\\site-packages (from spacy) (3.0.12)\n",
      "Requirement already satisfied: spacy-loggers<2.0.0,>=1.0.0 in c:\\users\\hp\\anaconda3\\lib\\site-packages (from spacy) (1.0.5)\n",
      "Requirement already satisfied: murmurhash<1.1.0,>=0.28.0 in c:\\users\\hp\\anaconda3\\lib\\site-packages (from spacy) (1.0.10)\n",
      "Requirement already satisfied: cymem<2.1.0,>=2.0.2 in c:\\users\\hp\\anaconda3\\lib\\site-packages (from spacy) (2.0.8)\n",
      "Requirement already satisfied: preshed<3.1.0,>=3.0.2 in c:\\users\\hp\\anaconda3\\lib\\site-packages (from spacy) (3.0.9)\n",
      "Requirement already satisfied: thinc<8.4.0,>=8.3.0 in c:\\users\\hp\\anaconda3\\lib\\site-packages (from spacy) (8.3.2)\n",
      "Requirement already satisfied: wasabi<1.2.0,>=0.9.1 in c:\\users\\hp\\anaconda3\\lib\\site-packages (from spacy) (1.1.3)\n",
      "Requirement already satisfied: srsly<3.0.0,>=2.4.3 in c:\\users\\hp\\anaconda3\\lib\\site-packages (from spacy) (2.4.8)\n",
      "Requirement already satisfied: catalogue<2.1.0,>=2.0.6 in c:\\users\\hp\\anaconda3\\lib\\site-packages (from spacy) (2.0.10)\n",
      "Requirement already satisfied: weasel<0.5.0,>=0.1.0 in c:\\users\\hp\\anaconda3\\lib\\site-packages (from spacy) (0.4.1)\n",
      "Requirement already satisfied: typer<1.0.0,>=0.3.0 in c:\\users\\hp\\anaconda3\\lib\\site-packages (from spacy) (0.13.0)\n",
      "Requirement already satisfied: tqdm<5.0.0,>=4.38.0 in c:\\users\\hp\\anaconda3\\lib\\site-packages (from spacy) (4.65.0)\n",
      "Requirement already satisfied: requests<3.0.0,>=2.13.0 in c:\\users\\hp\\anaconda3\\lib\\site-packages (from spacy) (2.31.0)\n",
      "Requirement already satisfied: pydantic!=1.8,!=1.8.1,<3.0.0,>=1.7.4 in c:\\users\\hp\\anaconda3\\lib\\site-packages (from spacy) (1.10.12)\n",
      "Requirement already satisfied: jinja2 in c:\\users\\hp\\anaconda3\\lib\\site-packages (from spacy) (3.1.3)\n",
      "Requirement already satisfied: setuptools in c:\\users\\hp\\anaconda3\\lib\\site-packages (from spacy) (68.2.2)\n",
      "Requirement already satisfied: packaging>=20.0 in c:\\users\\hp\\anaconda3\\lib\\site-packages (from spacy) (23.1)\n",
      "Requirement already satisfied: langcodes<4.0.0,>=3.2.0 in c:\\users\\hp\\anaconda3\\lib\\site-packages (from spacy) (3.4.1)\n",
      "Requirement already satisfied: numpy>=1.19.0 in c:\\users\\hp\\anaconda3\\lib\\site-packages (from spacy) (2.0.2)\n",
      "Requirement already satisfied: language-data>=1.2 in c:\\users\\hp\\anaconda3\\lib\\site-packages (from langcodes<4.0.0,>=3.2.0->spacy) (1.2.0)\n",
      "Requirement already satisfied: typing-extensions>=4.2.0 in c:\\users\\hp\\anaconda3\\lib\\site-packages (from pydantic!=1.8,!=1.8.1,<3.0.0,>=1.7.4->spacy) (4.9.0)\n",
      "Requirement already satisfied: charset-normalizer<4,>=2 in c:\\users\\hp\\anaconda3\\lib\\site-packages (from requests<3.0.0,>=2.13.0->spacy) (2.0.4)\n",
      "Requirement already satisfied: idna<4,>=2.5 in c:\\users\\hp\\anaconda3\\lib\\site-packages (from requests<3.0.0,>=2.13.0->spacy) (3.4)\n",
      "Requirement already satisfied: urllib3<3,>=1.21.1 in c:\\users\\hp\\anaconda3\\lib\\site-packages (from requests<3.0.0,>=2.13.0->spacy) (1.26.18)\n",
      "Requirement already satisfied: certifi>=2017.4.17 in c:\\users\\hp\\anaconda3\\lib\\site-packages (from requests<3.0.0,>=2.13.0->spacy) (2024.7.4)\n",
      "Requirement already satisfied: blis<1.1.0,>=1.0.0 in c:\\users\\hp\\anaconda3\\lib\\site-packages (from thinc<8.4.0,>=8.3.0->spacy) (1.0.1)\n",
      "Requirement already satisfied: confection<1.0.0,>=0.0.1 in c:\\users\\hp\\anaconda3\\lib\\site-packages (from thinc<8.4.0,>=8.3.0->spacy) (0.1.5)\n",
      "Requirement already satisfied: colorama in c:\\users\\hp\\anaconda3\\lib\\site-packages (from tqdm<5.0.0,>=4.38.0->spacy) (0.4.6)\n",
      "Requirement already satisfied: click>=8.0.0 in c:\\users\\hp\\anaconda3\\lib\\site-packages (from typer<1.0.0,>=0.3.0->spacy) (8.1.7)\n",
      "Requirement already satisfied: shellingham>=1.3.0 in c:\\users\\hp\\anaconda3\\lib\\site-packages (from typer<1.0.0,>=0.3.0->spacy) (1.5.4)\n",
      "Requirement already satisfied: rich>=10.11.0 in c:\\users\\hp\\anaconda3\\lib\\site-packages (from typer<1.0.0,>=0.3.0->spacy) (13.3.5)\n",
      "Requirement already satisfied: cloudpathlib<1.0.0,>=0.7.0 in c:\\users\\hp\\anaconda3\\lib\\site-packages (from weasel<0.5.0,>=0.1.0->spacy) (0.20.0)\n",
      "Requirement already satisfied: smart-open<8.0.0,>=5.2.1 in c:\\users\\hp\\anaconda3\\lib\\site-packages (from weasel<0.5.0,>=0.1.0->spacy) (5.2.1)\n",
      "Requirement already satisfied: MarkupSafe>=2.0 in c:\\users\\hp\\anaconda3\\lib\\site-packages (from jinja2->spacy) (2.1.3)\n",
      "Requirement already satisfied: marisa-trie>=0.7.7 in c:\\users\\hp\\anaconda3\\lib\\site-packages (from language-data>=1.2->langcodes<4.0.0,>=3.2.0->spacy) (1.2.1)\n",
      "Requirement already satisfied: markdown-it-py<3.0.0,>=2.2.0 in c:\\users\\hp\\anaconda3\\lib\\site-packages (from rich>=10.11.0->typer<1.0.0,>=0.3.0->spacy) (2.2.0)\n",
      "Requirement already satisfied: pygments<3.0.0,>=2.13.0 in c:\\users\\hp\\anaconda3\\lib\\site-packages (from rich>=10.11.0->typer<1.0.0,>=0.3.0->spacy) (2.15.1)\n",
      "Requirement already satisfied: mdurl~=0.1 in c:\\users\\hp\\anaconda3\\lib\\site-packages (from markdown-it-py<3.0.0,>=2.2.0->rich>=10.11.0->typer<1.0.0,>=0.3.0->spacy) (0.1.0)\n",
      "Collecting en-core-web-sm==3.8.0\n",
      "  Downloading https://github.com/explosion/spacy-models/releases/download/en_core_web_sm-3.8.0/en_core_web_sm-3.8.0-py3-none-any.whl (12.8 MB)\n",
      "     ---------------------------------------- 0.0/12.8 MB ? eta -:--:--\n",
      "     ---------------------------------------- 0.1/12.8 MB 1.6 MB/s eta 0:00:08\n",
      "      --------------------------------------- 0.3/12.8 MB 3.2 MB/s eta 0:00:04\n",
      "     - -------------------------------------- 0.6/12.8 MB 4.5 MB/s eta 0:00:03\n",
      "     --- ------------------------------------ 1.1/12.8 MB 6.2 MB/s eta 0:00:02\n",
      "     ---- ----------------------------------- 1.6/12.8 MB 7.1 MB/s eta 0:00:02\n",
      "     ------ --------------------------------- 2.0/12.8 MB 7.4 MB/s eta 0:00:02\n",
      "     ------- -------------------------------- 2.5/12.8 MB 7.9 MB/s eta 0:00:02\n",
      "     --------- ------------------------------ 2.9/12.8 MB 8.1 MB/s eta 0:00:02\n",
      "     ---------- ----------------------------- 3.3/12.8 MB 8.1 MB/s eta 0:00:02\n",
      "     ----------- ---------------------------- 3.7/12.8 MB 8.1 MB/s eta 0:00:02\n",
      "     ------------ --------------------------- 4.0/12.8 MB 8.0 MB/s eta 0:00:02\n",
      "     ------------- -------------------------- 4.3/12.8 MB 7.9 MB/s eta 0:00:02\n",
      "     -------------- ------------------------- 4.6/12.8 MB 7.7 MB/s eta 0:00:02\n",
      "     --------------- ------------------------ 4.9/12.8 MB 7.7 MB/s eta 0:00:02\n",
      "     ---------------- ----------------------- 5.2/12.8 MB 7.5 MB/s eta 0:00:02\n",
      "     ----------------- ---------------------- 5.5/12.8 MB 7.4 MB/s eta 0:00:01\n",
      "     ----------------- ---------------------- 5.8/12.8 MB 7.3 MB/s eta 0:00:01\n",
      "     ------------------ --------------------- 6.0/12.8 MB 7.2 MB/s eta 0:00:01\n",
      "     ------------------- -------------------- 6.3/12.8 MB 7.2 MB/s eta 0:00:01\n",
      "     -------------------- ------------------- 6.7/12.8 MB 7.2 MB/s eta 0:00:01\n",
      "     ---------------------- ----------------- 7.2/12.8 MB 7.4 MB/s eta 0:00:01\n",
      "     ----------------------- ---------------- 7.6/12.8 MB 7.4 MB/s eta 0:00:01\n",
      "     ------------------------- -------------- 8.0/12.8 MB 7.6 MB/s eta 0:00:01\n",
      "     -------------------------- ------------- 8.5/12.8 MB 7.8 MB/s eta 0:00:01\n",
      "     ---------------------------- ----------- 9.1/12.8 MB 7.8 MB/s eta 0:00:01\n",
      "     ------------------------------ --------- 9.7/12.8 MB 8.1 MB/s eta 0:00:01\n",
      "     -------------------------------- ------- 10.3/12.8 MB 8.4 MB/s eta 0:00:01\n",
      "     --------------------------------- ------ 10.8/12.8 MB 8.8 MB/s eta 0:00:01\n",
      "     ----------------------------------- ---- 11.4/12.8 MB 9.0 MB/s eta 0:00:01\n",
      "     ------------------------------------- -- 12.0/12.8 MB 9.0 MB/s eta 0:00:01\n",
      "     -------------------------------------- - 12.5/12.8 MB 9.1 MB/s eta 0:00:01\n",
      "     ---------------------------------------  12.8/12.8 MB 9.1 MB/s eta 0:00:01\n",
      "     ---------------------------------------- 12.8/12.8 MB 8.8 MB/s eta 0:00:00\n",
      "\u001b[38;5;2m[+] Download and installation successful\u001b[0m\n",
      "You can now load the package via spacy.load('en_core_web_sm')\n"
     ]
    }
   ],
   "source": [
    "!pip install spacy\n",
    "!python -m spacy download en_core_web_sm\n"
   ]
  },
  {
   "cell_type": "code",
   "execution_count": 12,
   "metadata": {},
   "outputs": [
    {
     "name": "stdout",
     "output_type": "stream",
     "text": [
      "Requirement already satisfied: numpy in c:\\users\\hp\\anaconda3\\lib\\site-packages (1.26.4)\n",
      "Collecting numpy\n",
      "  Downloading numpy-2.1.3-cp311-cp311-win_amd64.whl.metadata (60 kB)\n",
      "     ---------------------------------------- 0.0/60.8 kB ? eta -:--:--\n",
      "     ------------------- ------------------ 30.7/60.8 kB 435.7 kB/s eta 0:00:01\n",
      "     ------------------------------- ------ 51.2/60.8 kB 525.1 kB/s eta 0:00:01\n",
      "     -------------------------------------- 60.8/60.8 kB 464.3 kB/s eta 0:00:00\n",
      "Requirement already satisfied: scipy in c:\\users\\hp\\anaconda3\\lib\\site-packages (1.11.4)\n",
      "Collecting scipy\n",
      "  Downloading scipy-1.14.1-cp311-cp311-win_amd64.whl.metadata (60 kB)\n",
      "     ---------------------------------------- 0.0/60.8 kB ? eta -:--:--\n",
      "     ---------------------------------------- 60.8/60.8 kB 1.6 MB/s eta 0:00:00\n",
      "Downloading numpy-2.1.3-cp311-cp311-win_amd64.whl (12.9 MB)\n",
      "   ---------------------------------------- 0.0/12.9 MB ? eta -:--:--\n",
      "   - -------------------------------------- 0.4/12.9 MB 12.6 MB/s eta 0:00:01\n",
      "   --- ------------------------------------ 1.0/12.9 MB 10.9 MB/s eta 0:00:02\n",
      "   ---- ----------------------------------- 1.6/12.9 MB 11.3 MB/s eta 0:00:02\n",
      "   ------ --------------------------------- 2.1/12.9 MB 11.2 MB/s eta 0:00:01\n",
      "   -------- ------------------------------- 2.7/12.9 MB 11.5 MB/s eta 0:00:01\n",
      "   --------- ------------------------------ 3.2/12.9 MB 11.4 MB/s eta 0:00:01\n",
      "   ----------- ---------------------------- 3.7/12.9 MB 11.4 MB/s eta 0:00:01\n",
      "   ------------- -------------------------- 4.3/12.9 MB 11.4 MB/s eta 0:00:01\n",
      "   --------------- ------------------------ 4.8/12.9 MB 11.5 MB/s eta 0:00:01\n",
      "   ---------------- ----------------------- 5.4/12.9 MB 11.4 MB/s eta 0:00:01\n",
      "   ------------------ --------------------- 5.9/12.9 MB 11.8 MB/s eta 0:00:01\n",
      "   -------------------- ------------------- 6.5/12.9 MB 11.8 MB/s eta 0:00:01\n",
      "   --------------------- ------------------ 7.0/12.9 MB 11.8 MB/s eta 0:00:01\n",
      "   ----------------------- ---------------- 7.5/12.9 MB 11.7 MB/s eta 0:00:01\n",
      "   ------------------------ --------------- 7.9/12.9 MB 11.6 MB/s eta 0:00:01\n",
      "   -------------------------- ------------- 8.5/12.9 MB 11.5 MB/s eta 0:00:01\n",
      "   ---------------------------- ----------- 9.0/12.9 MB 11.5 MB/s eta 0:00:01\n",
      "   ----------------------------- ---------- 9.5/12.9 MB 11.5 MB/s eta 0:00:01\n",
      "   ------------------------------- -------- 10.0/12.9 MB 11.4 MB/s eta 0:00:01\n",
      "   -------------------------------- ------- 10.5/12.9 MB 11.5 MB/s eta 0:00:01\n",
      "   ---------------------------------- ----- 11.0/12.9 MB 11.3 MB/s eta 0:00:01\n",
      "   ----------------------------------- ---- 11.5/12.9 MB 11.3 MB/s eta 0:00:01\n",
      "   ------------------------------------- -- 12.0/12.9 MB 11.3 MB/s eta 0:00:01\n",
      "   -------------------------------------- - 12.5/12.9 MB 11.3 MB/s eta 0:00:01\n",
      "   ---------------------------------------  12.8/12.9 MB 10.9 MB/s eta 0:00:01\n",
      "   ---------------------------------------  12.9/12.9 MB 10.9 MB/s eta 0:00:01\n",
      "   ---------------------------------------  12.9/12.9 MB 10.9 MB/s eta 0:00:01\n",
      "   ---------------------------------------  12.9/12.9 MB 10.9 MB/s eta 0:00:01\n",
      "   ---------------------------------------- 12.9/12.9 MB 9.3 MB/s eta 0:00:00\n",
      "Downloading scipy-1.14.1-cp311-cp311-win_amd64.whl (44.8 MB)\n",
      "   ---------------------------------------- 0.0/44.8 MB ? eta -:--:--\n",
      "   ---------------------------------------- 0.5/44.8 MB 11.3 MB/s eta 0:00:04\n",
      "    --------------------------------------- 1.0/44.8 MB 11.1 MB/s eta 0:00:04\n",
      "   - -------------------------------------- 1.5/44.8 MB 10.3 MB/s eta 0:00:05\n",
      "   - -------------------------------------- 2.0/44.8 MB 10.7 MB/s eta 0:00:05\n",
      "   -- ------------------------------------- 2.5/44.8 MB 10.5 MB/s eta 0:00:05\n",
      "   -- ------------------------------------- 3.0/44.8 MB 10.6 MB/s eta 0:00:04\n",
      "   --- ------------------------------------ 3.5/44.8 MB 10.5 MB/s eta 0:00:04\n",
      "   --- ------------------------------------ 4.0/44.8 MB 10.6 MB/s eta 0:00:04\n",
      "   ---- ----------------------------------- 4.5/44.8 MB 10.7 MB/s eta 0:00:04\n",
      "   ---- ----------------------------------- 5.0/44.8 MB 10.7 MB/s eta 0:00:04\n",
      "   ---- ----------------------------------- 5.6/44.8 MB 10.8 MB/s eta 0:00:04\n",
      "   ----- ---------------------------------- 6.1/44.8 MB 10.8 MB/s eta 0:00:04\n",
      "   ----- ---------------------------------- 6.6/44.8 MB 10.8 MB/s eta 0:00:04\n",
      "   ------ --------------------------------- 7.1/44.8 MB 10.8 MB/s eta 0:00:04\n",
      "   ------ --------------------------------- 7.6/44.8 MB 10.8 MB/s eta 0:00:04\n",
      "   ------- -------------------------------- 8.2/44.8 MB 10.9 MB/s eta 0:00:04\n",
      "   ------- -------------------------------- 8.7/44.8 MB 10.8 MB/s eta 0:00:04\n",
      "   -------- ------------------------------- 9.2/44.8 MB 11.0 MB/s eta 0:00:04\n",
      "   -------- ------------------------------- 9.7/44.8 MB 11.1 MB/s eta 0:00:04\n",
      "   --------- ------------------------------ 10.2/44.8 MB 11.0 MB/s eta 0:00:04\n",
      "   --------- ------------------------------ 10.7/44.8 MB 11.1 MB/s eta 0:00:04\n",
      "   --------- ------------------------------ 11.2/44.8 MB 10.9 MB/s eta 0:00:04\n",
      "   ---------- ----------------------------- 11.7/44.8 MB 11.1 MB/s eta 0:00:03\n",
      "   ---------- ----------------------------- 12.2/44.8 MB 11.1 MB/s eta 0:00:03\n",
      "   ----------- ---------------------------- 12.7/44.8 MB 11.1 MB/s eta 0:00:03\n",
      "   ----------- ---------------------------- 13.2/44.8 MB 11.1 MB/s eta 0:00:03\n",
      "   ------------ --------------------------- 13.8/44.8 MB 11.3 MB/s eta 0:00:03\n",
      "   ------------ --------------------------- 14.3/44.8 MB 11.1 MB/s eta 0:00:03\n",
      "   ------------- -------------------------- 14.9/44.8 MB 11.1 MB/s eta 0:00:03\n",
      "   ------------- -------------------------- 15.4/44.8 MB 11.1 MB/s eta 0:00:03\n",
      "   ------------- -------------------------- 15.4/44.8 MB 10.9 MB/s eta 0:00:03\n",
      "   ------------- -------------------------- 15.5/44.8 MB 10.2 MB/s eta 0:00:03\n",
      "   -------------- ------------------------- 16.0/44.8 MB 10.2 MB/s eta 0:00:03\n",
      "   -------------- ------------------------- 16.5/44.8 MB 10.2 MB/s eta 0:00:03\n",
      "   --------------- ------------------------ 17.0/44.8 MB 10.2 MB/s eta 0:00:03\n",
      "   --------------- ------------------------ 17.5/44.8 MB 10.2 MB/s eta 0:00:03\n",
      "   ---------------- ----------------------- 18.1/44.8 MB 10.2 MB/s eta 0:00:03\n",
      "   ---------------- ----------------------- 18.7/44.8 MB 10.4 MB/s eta 0:00:03\n",
      "   ----------------- ---------------------- 19.2/44.8 MB 10.2 MB/s eta 0:00:03\n",
      "   ----------------- ---------------------- 19.7/44.8 MB 10.2 MB/s eta 0:00:03\n",
      "   ------------------ --------------------- 20.2/44.8 MB 10.2 MB/s eta 0:00:03\n",
      "   ------------------ --------------------- 20.8/44.8 MB 10.4 MB/s eta 0:00:03\n",
      "   ------------------ --------------------- 21.3/44.8 MB 10.4 MB/s eta 0:00:03\n",
      "   ------------------- -------------------- 21.8/44.8 MB 10.4 MB/s eta 0:00:03\n",
      "   ------------------- -------------------- 22.3/44.8 MB 10.4 MB/s eta 0:00:03\n",
      "   -------------------- ------------------- 22.8/44.8 MB 10.4 MB/s eta 0:00:03\n",
      "   -------------------- ------------------- 23.3/44.8 MB 10.4 MB/s eta 0:00:03\n",
      "   --------------------- ------------------ 23.8/44.8 MB 10.4 MB/s eta 0:00:03\n",
      "   --------------------- ------------------ 24.4/44.8 MB 10.4 MB/s eta 0:00:02\n",
      "   ---------------------- ----------------- 24.9/44.8 MB 10.2 MB/s eta 0:00:02\n",
      "   ---------------------- ----------------- 25.4/44.8 MB 10.2 MB/s eta 0:00:02\n",
      "   ----------------------- ---------------- 25.9/44.8 MB 11.3 MB/s eta 0:00:02\n",
      "   ----------------------- ---------------- 26.5/44.8 MB 11.3 MB/s eta 0:00:02\n",
      "   ------------------------ --------------- 27.0/44.8 MB 11.3 MB/s eta 0:00:02\n",
      "   ------------------------ --------------- 27.5/44.8 MB 11.3 MB/s eta 0:00:02\n",
      "   ------------------------- -------------- 28.1/44.8 MB 11.3 MB/s eta 0:00:02\n",
      "   ------------------------- -------------- 28.5/44.8 MB 11.1 MB/s eta 0:00:02\n",
      "   -------------------------- ------------- 29.1/44.8 MB 11.1 MB/s eta 0:00:02\n",
      "   -------------------------- ------------- 29.6/44.8 MB 11.3 MB/s eta 0:00:02\n",
      "   -------------------------- ------------- 30.2/44.8 MB 11.3 MB/s eta 0:00:02\n",
      "   --------------------------- ------------ 30.7/44.8 MB 11.3 MB/s eta 0:00:02\n",
      "   --------------------------- ------------ 31.0/44.8 MB 10.9 MB/s eta 0:00:02\n",
      "   ---------------------------- ----------- 31.5/44.8 MB 10.9 MB/s eta 0:00:02\n",
      "   ---------------------------- ----------- 32.1/44.8 MB 10.9 MB/s eta 0:00:02\n",
      "   ----------------------------- ---------- 32.6/44.8 MB 11.1 MB/s eta 0:00:02\n",
      "   ----------------------------- ---------- 33.1/44.8 MB 10.9 MB/s eta 0:00:02\n",
      "   ------------------------------ --------- 33.7/44.8 MB 11.1 MB/s eta 0:00:01\n",
      "   ------------------------------ --------- 34.3/44.8 MB 11.1 MB/s eta 0:00:01\n",
      "   ------------------------------- -------- 34.8/44.8 MB 11.1 MB/s eta 0:00:01\n",
      "   ------------------------------- -------- 35.4/44.8 MB 11.1 MB/s eta 0:00:01\n",
      "   -------------------------------- ------- 35.9/44.8 MB 11.3 MB/s eta 0:00:01\n",
      "   -------------------------------- ------- 36.2/44.8 MB 11.3 MB/s eta 0:00:01\n",
      "   -------------------------------- ------- 36.8/44.8 MB 11.3 MB/s eta 0:00:01\n",
      "   --------------------------------- ------ 37.3/44.8 MB 11.1 MB/s eta 0:00:01\n",
      "   --------------------------------- ------ 37.7/44.8 MB 10.9 MB/s eta 0:00:01\n",
      "   --------------------------------- ------ 38.0/44.8 MB 10.7 MB/s eta 0:00:01\n",
      "   ---------------------------------- ----- 38.6/44.8 MB 10.9 MB/s eta 0:00:01\n",
      "   ---------------------------------- ----- 39.1/44.8 MB 10.9 MB/s eta 0:00:01\n",
      "   ----------------------------------- ---- 39.7/44.8 MB 10.9 MB/s eta 0:00:01\n",
      "   ----------------------------------- ---- 40.2/44.8 MB 10.7 MB/s eta 0:00:01\n",
      "   ------------------------------------ --- 40.7/44.8 MB 10.7 MB/s eta 0:00:01\n",
      "   ------------------------------------ --- 41.2/44.8 MB 11.1 MB/s eta 0:00:01\n",
      "   ------------------------------------- -- 41.8/44.8 MB 11.1 MB/s eta 0:00:01\n",
      "   ------------------------------------- -- 42.3/44.8 MB 11.1 MB/s eta 0:00:01\n",
      "   -------------------------------------- - 42.9/44.8 MB 11.1 MB/s eta 0:00:01\n",
      "   -------------------------------------- - 43.4/44.8 MB 11.1 MB/s eta 0:00:01\n",
      "   ---------------------------------------  43.9/44.8 MB 11.1 MB/s eta 0:00:01\n",
      "   ---------------------------------------  44.5/44.8 MB 11.1 MB/s eta 0:00:01\n",
      "   ---------------------------------------  44.8/44.8 MB 10.9 MB/s eta 0:00:01\n",
      "   ---------------------------------------  44.8/44.8 MB 10.9 MB/s eta 0:00:01\n",
      "   ---------------------------------------  44.8/44.8 MB 10.9 MB/s eta 0:00:01\n",
      "   ---------------------------------------  44.8/44.8 MB 10.9 MB/s eta 0:00:01\n",
      "   ---------------------------------------  44.8/44.8 MB 10.9 MB/s eta 0:00:01\n",
      "   ---------------------------------------  44.8/44.8 MB 10.9 MB/s eta 0:00:01\n",
      "   ---------------------------------------  44.8/44.8 MB 10.9 MB/s eta 0:00:01\n",
      "   ---------------------------------------  44.8/44.8 MB 10.9 MB/s eta 0:00:01\n",
      "   ---------------------------------------  44.8/44.8 MB 10.9 MB/s eta 0:00:01\n",
      "   ---------------------------------------  44.8/44.8 MB 10.9 MB/s eta 0:00:01\n",
      "   ---------------------------------------  44.8/44.8 MB 10.9 MB/s eta 0:00:01\n",
      "   ---------------------------------------  44.8/44.8 MB 10.9 MB/s eta 0:00:01\n",
      "   ---------------------------------------  44.8/44.8 MB 10.9 MB/s eta 0:00:01\n",
      "   ---------------------------------------  44.8/44.8 MB 10.9 MB/s eta 0:00:01\n",
      "   ---------------------------------------  44.8/44.8 MB 10.9 MB/s eta 0:00:01\n",
      "   ---------------------------------------  44.8/44.8 MB 10.9 MB/s eta 0:00:01\n",
      "   ---------------------------------------  44.8/44.8 MB 10.9 MB/s eta 0:00:01\n",
      "   ---------------------------------------- 44.8/44.8 MB 5.9 MB/s eta 0:00:00\n",
      "Installing collected packages: numpy, scipy\n",
      "  Attempting uninstall: numpy\n",
      "    Found existing installation: numpy 1.26.4\n",
      "    Uninstalling numpy-1.26.4:\n",
      "      Successfully uninstalled numpy-1.26.4\n",
      "  Attempting uninstall: scipy\n",
      "    Found existing installation: scipy 1.11.4\n",
      "    Uninstalling scipy-1.11.4:\n",
      "      Successfully uninstalled scipy-1.11.4\n",
      "Successfully installed numpy-2.1.3 scipy-1.14.1\n"
     ]
    },
    {
     "name": "stderr",
     "output_type": "stream",
     "text": [
      "ERROR: pip's dependency resolver does not currently take into account all the packages that are installed. This behaviour is the source of the following dependency conflicts.\n",
      "gensim 4.3.0 requires FuzzyTM>=0.4.0, which is not installed.\n",
      "astropy 5.3.4 requires numpy<2,>=1.21, but you have numpy 2.1.3 which is incompatible.\n",
      "contourpy 1.2.0 requires numpy<2.0,>=1.20, but you have numpy 2.1.3 which is incompatible.\n",
      "matplotlib 3.8.0 requires numpy<2,>=1.21, but you have numpy 2.1.3 which is incompatible.\n",
      "numba 0.59.0 requires numpy<1.27,>=1.22, but you have numpy 2.1.3 which is incompatible.\n",
      "pandas 2.1.4 requires numpy<2,>=1.23.2; python_version == \"3.11\", but you have numpy 2.1.3 which is incompatible.\n",
      "pywavelets 1.5.0 requires numpy<2.0,>=1.22.4, but you have numpy 2.1.3 which is incompatible.\n",
      "streamlit 1.30.0 requires numpy<2,>=1.19.3, but you have numpy 2.1.3 which is incompatible.\n",
      "tensorflow-intel 2.16.1 requires numpy<2.0.0,>=1.23.5; python_version <= \"3.11\", but you have numpy 2.1.3 which is incompatible.\n",
      "thinc 8.3.2 requires numpy<2.1.0,>=2.0.0; python_version >= \"3.9\", but you have numpy 2.1.3 which is incompatible.\n"
     ]
    }
   ],
   "source": [
    "!pip install --upgrade numpy scipy\n"
   ]
  },
  {
   "cell_type": "code",
   "execution_count": null,
   "metadata": {},
   "outputs": [],
   "source": []
  }
 ],
 "metadata": {
  "colab": {
   "provenance": []
  },
  "kernelspec": {
   "display_name": "Python 3 (ipykernel)",
   "language": "python",
   "name": "python3"
  },
  "language_info": {
   "codemirror_mode": {
    "name": "ipython",
    "version": 3
   },
   "file_extension": ".py",
   "mimetype": "text/x-python",
   "name": "python",
   "nbconvert_exporter": "python",
   "pygments_lexer": "ipython3",
   "version": "3.11.7"
  }
 },
 "nbformat": 4,
 "nbformat_minor": 4
}
