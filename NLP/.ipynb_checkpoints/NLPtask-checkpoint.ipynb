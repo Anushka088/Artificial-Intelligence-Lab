{
 "cells": [
  {
   "cell_type": "code",
   "execution_count": 5,
   "metadata": {
    "colab": {
     "base_uri": "https://localhost:8080/"
    },
    "id": "AYCeMR1pifkl",
    "outputId": "07d96970-ddcd-4b76-ca8d-37a9cc44e096"
   },
   "outputs": [
    {
     "name": "stderr",
     "output_type": "stream",
     "text": [
      "[nltk_data] Downloading package wordnet to\n",
      "[nltk_data]     C:\\Users\\HP\\AppData\\Roaming\\nltk_data...\n",
      "[nltk_data]   Package wordnet is already up-to-date!\n",
      "[nltk_data] Downloading package stopwords to\n",
      "[nltk_data]     C:\\Users\\HP\\AppData\\Roaming\\nltk_data...\n",
      "[nltk_data]   Package stopwords is already up-to-date!\n",
      "[nltk_data] Downloading package omw-1.4 to\n",
      "[nltk_data]     C:\\Users\\HP\\AppData\\Roaming\\nltk_data...\n",
      "[nltk_data]   Package omw-1.4 is already up-to-date!\n",
      "[nltk_data] Downloading package punkt to\n",
      "[nltk_data]     C:\\Users\\HP\\AppData\\Roaming\\nltk_data...\n",
      "[nltk_data]   Package punkt is already up-to-date!\n"
     ]
    }
   ],
   "source": [
    "import nltk\n",
    "nltk.download('wordnet')\n",
    "nltk.download('stopwords')\n",
    "nltk.download('omw-1.4')\n",
    "nltk.download('punkt')\n",
    "\n",
    "text=\"\"\"Robin loves playing football. He often plays in the park with his friends. Football keeps him fit and healthy.\"\"\"\n"
   ]
  },
  {
   "cell_type": "code",
   "execution_count": 7,
   "metadata": {
    "colab": {
     "base_uri": "https://localhost:8080/"
    },
    "id": "7niUyQ9s_PhE",
    "outputId": "91041901-222d-4a66-8e28-4be94f563dee"
   },
   "outputs": [
    {
     "name": "stdout",
     "output_type": "stream",
     "text": [
      "['Robin loves playing football.', 'He often plays in the park with his friends.', 'Football keeps him fit and healthy.']\n"
     ]
    }
   ],
   "source": [
    "sent=nltk.sent_tokenize(text)\n",
    "print(sent)"
   ]
  },
  {
   "cell_type": "code",
   "execution_count": 21,
   "metadata": {
    "colab": {
     "base_uri": "https://localhost:8080/",
     "height": 53
    },
    "id": "YAcysU4fi0Ei",
    "outputId": "d5e979fc-f0b1-4b9c-a634-e5d03a547a38"
   },
   "outputs": [
    {
     "name": "stdout",
     "output_type": "stream",
     "text": [
      "robin loves playing football.\n",
      "he often plays in the park with his friends.\n",
      "football keeps him fit and healthy.\n"
     ]
    },
    {
     "data": {
      "text/plain": [
       "'robin loves playing football  he often plays in the park with his friends  football keeps him fit and healthy '"
      ]
     },
     "execution_count": 21,
     "metadata": {},
     "output_type": "execute_result"
    }
   ],
   "source": [
    "import re\n",
    "f_text=[]\n",
    "for sentence in sent:\n",
    "    print(sentence.lower())\n",
    "    cleaned_text = re.sub(r\"[^a-z\\'A-Z]\", \" \", sentence.lower())\n",
    "    f_text.append(cleaned_text)\n",
    "fin_text=' '.join(f_text)\n",
    "fin_text\n"
   ]
  },
  {
   "cell_type": "code",
   "execution_count": 23,
   "metadata": {
    "colab": {
     "base_uri": "https://localhost:8080/"
    },
    "id": "pob6k8i8fPuY",
    "outputId": "a7fdabf7-ddda-4005-af84-c8492f589980"
   },
   "outputs": [
    {
     "name": "stdout",
     "output_type": "stream",
     "text": [
      "['robin', 'loves', 'playing', 'football', 'he', 'often', 'plays', 'in', 'the', 'park', 'with', 'his', 'friends', 'football', 'keeps', 'him', 'fit', 'and', 'healthy']\n"
     ]
    }
   ],
   "source": [
    "words= fin_text.split()\n",
    "\n",
    "print(words)"
   ]
  },
  {
   "cell_type": "code",
   "execution_count": 25,
   "metadata": {
    "colab": {
     "base_uri": "https://localhost:8080/"
    },
    "id": "NRtDK6J1i09Y",
    "outputId": "c6379d6b-5180-4a91-e58b-11089b75442a"
   },
   "outputs": [
    {
     "name": "stdout",
     "output_type": "stream",
     "text": [
      "['i', 'me', 'my', 'myself', 'we', 'our', 'ours', 'ourselves', 'you', \"you're\", \"you've\", \"you'll\", \"you'd\", 'your', 'yours', 'yourself', 'yourselves', 'he', 'him', 'his', 'himself', 'she', \"she's\", 'her', 'hers', 'herself', 'it', \"it's\", 'its', 'itself', 'they', 'them', 'their', 'theirs', 'themselves', 'what', 'which', 'who', 'whom', 'this', 'that', \"that'll\", 'these', 'those', 'am', 'is', 'are', 'was', 'were', 'be', 'been', 'being', 'have', 'has', 'had', 'having', 'do', 'does', 'did', 'doing', 'a', 'an', 'the', 'and', 'but', 'if', 'or', 'because', 'as', 'until', 'while', 'of', 'at', 'by', 'for', 'with', 'about', 'against', 'between', 'into', 'through', 'during', 'before', 'after', 'above', 'below', 'to', 'from', 'up', 'down', 'in', 'out', 'on', 'off', 'over', 'under', 'again', 'further', 'then', 'once', 'here', 'there', 'when', 'where', 'why', 'how', 'all', 'any', 'both', 'each', 'few', 'more', 'most', 'other', 'some', 'such', 'no', 'nor', 'not', 'only', 'own', 'same', 'so', 'than', 'too', 'very', 's', 't', 'can', 'will', 'just', 'don', \"don't\", 'should', \"should've\", 'now', 'd', 'll', 'm', 'o', 're', 've', 'y', 'ain', 'aren', \"aren't\", 'couldn', \"couldn't\", 'didn', \"didn't\", 'doesn', \"doesn't\", 'hadn', \"hadn't\", 'hasn', \"hasn't\", 'haven', \"haven't\", 'isn', \"isn't\", 'ma', 'mightn', \"mightn't\", 'mustn', \"mustn't\", 'needn', \"needn't\", 'shan', \"shan't\", 'shouldn', \"shouldn't\", 'wasn', \"wasn't\", 'weren', \"weren't\", 'won', \"won't\", 'wouldn', \"wouldn't\"]\n"
     ]
    }
   ],
   "source": [
    "from nltk.corpus import stopwords\n",
    "print(stopwords.words(\"english\"))"
   ]
  },
  {
   "cell_type": "code",
   "execution_count": 27,
   "metadata": {
    "colab": {
     "base_uri": "https://localhost:8080/"
    },
    "id": "PsJ7PZuHi5MU",
    "outputId": "48c00dd4-999a-41bf-8000-dbabc4e619bf"
   },
   "outputs": [
    {
     "name": "stdout",
     "output_type": "stream",
     "text": [
      "['robin', 'loves', 'playing', 'football', 'often', 'plays', 'park', 'friends', 'football', 'keeps', 'fit', 'healthy']\n"
     ]
    }
   ],
   "source": [
    "words = [w for w in words if w not in stopwords.words(\"english\")]\n",
    "print(words)\n",
    "\n",
    "#for k in words:\n",
    " # for l in k:\n",
    "  #  if l not in stopwords.words(\"english\"):\n",
    "\n",
    "   #   print(l)"
   ]
  },
  {
   "cell_type": "code",
   "execution_count": 29,
   "metadata": {
    "colab": {
     "base_uri": "https://localhost:8080/"
    },
    "id": "WH_B-GlQi91J",
    "outputId": "fd3c12f9-2955-4e24-d6fc-f5a4795ed584"
   },
   "outputs": [
    {
     "name": "stdout",
     "output_type": "stream",
     "text": [
      "['robin', 'love', 'play', 'footbal', 'often', 'play', 'park', 'friend', 'footbal', 'keep', 'fit', 'healthi']\n"
     ]
    }
   ],
   "source": [
    "from nltk.stem.porter import PorterStemmer\n",
    "# Reduce words to their stems\n",
    "stemmed = [PorterStemmer().stem(w) for w in words]\n",
    "print(stemmed)\n"
   ]
  },
  {
   "cell_type": "code",
   "execution_count": 31,
   "metadata": {
    "colab": {
     "base_uri": "https://localhost:8080/"
    },
    "id": "wrjeBSHsjBwh",
    "outputId": "5ef76bcc-94d7-42de-e493-3e181947fa49"
   },
   "outputs": [
    {
     "name": "stdout",
     "output_type": "stream",
     "text": [
      "['robin', 'love', 'playing', 'football', 'often', 'play', 'park', 'friend', 'football', 'keep', 'fit', 'healthy']\n"
     ]
    }
   ],
   "source": [
    "from nltk.stem.wordnet import WordNetLemmatizer\n",
    "# Reduce words to their root form\n",
    "lemmed = [WordNetLemmatizer().lemmatize(w) for w in words]\n",
    "print(lemmed)"
   ]
  },
  {
   "cell_type": "code",
   "execution_count": 35,
   "metadata": {
    "colab": {
     "base_uri": "https://localhost:8080/",
     "height": 588
    },
    "id": "DuSwQpx8kgyz",
    "outputId": "82007f28-bff2-4b10-b8c5-bbf5d345c663"
   },
   "outputs": [
    {
     "ename": "NameError",
     "evalue": "name 'ne_chunk' is not defined",
     "output_type": "error",
     "traceback": [
      "\u001b[1;31m---------------------------------------------------------------------------\u001b[0m",
      "\u001b[1;31mNameError\u001b[0m                                 Traceback (most recent call last)",
      "Cell \u001b[1;32mIn[35], line 5\u001b[0m\n\u001b[0;32m      1\u001b[0m \u001b[38;5;28;01mfrom\u001b[39;00m \u001b[38;5;21;01mnltk\u001b[39;00m \u001b[38;5;28;01mimport\u001b[39;00m pos_tag,RegexpParser\n\u001b[0;32m      3\u001b[0m tagged\u001b[38;5;241m=\u001b[39mpos_tag(lemmed)\n\u001b[1;32m----> 5\u001b[0m named_entities\u001b[38;5;241m=\u001b[39mne_chunk(tagged)\n\u001b[0;32m      6\u001b[0m chunker\u001b[38;5;241m=\u001b[39mRegexpParser(\u001b[38;5;124m\"\"\"\u001b[39m\n\u001b[0;32m      7\u001b[0m \u001b[38;5;124mNP:\u001b[39m\u001b[38;5;132;01m{}\u001b[39;00m\n\u001b[0;32m      8\u001b[0m \u001b[38;5;124mP:\u001b[39m\u001b[38;5;132;01m{}\u001b[39;00m\n\u001b[1;32m   (...)\u001b[0m\n\u001b[0;32m     12\u001b[0m \n\u001b[0;32m     13\u001b[0m \u001b[38;5;124m\"\"\"\u001b[39m)\n\u001b[0;32m     14\u001b[0m output \u001b[38;5;241m=\u001b[39m chunker\u001b[38;5;241m.\u001b[39mparse(tagged)\n",
      "\u001b[1;31mNameError\u001b[0m: name 'ne_chunk' is not defined"
     ]
    }
   ],
   "source": [
    "from nltk import pos_tag,RegexpParser,ne_chunk\n",
    "\n",
    "tagged=pos_tag(lemmed)\n",
    "\n",
    "named_entities=ne_chunk(tagged)\n",
    "chunker=RegexpParser(\"\"\"\n",
    "NP:{}\n",
    "P:{}\n",
    "V:{}\n",
    "PP:{}\n",
    "VP:{}\n",
    "\n",
    "\"\"\")\n",
    "output = chunker.parse(tagged)\n",
    "print(\"pos tagged:\", tagged)\n",
    "print(\"named entities\",named_entities)\n",
    "print(\"After Extracting\", output)\n",
    "\n"
   ]
  },
  {
   "cell_type": "code",
   "execution_count": null,
   "metadata": {},
   "outputs": [],
   "source": []
  }
 ],
 "metadata": {
  "colab": {
   "provenance": []
  },
  "kernelspec": {
   "display_name": "Python 3 (ipykernel)",
   "language": "python",
   "name": "python3"
  },
  "language_info": {
   "codemirror_mode": {
    "name": "ipython",
    "version": 3
   },
   "file_extension": ".py",
   "mimetype": "text/x-python",
   "name": "python",
   "nbconvert_exporter": "python",
   "pygments_lexer": "ipython3",
   "version": "3.11.7"
  }
 },
 "nbformat": 4,
 "nbformat_minor": 4
}
